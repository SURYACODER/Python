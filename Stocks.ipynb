{
  "nbformat": 4,
  "nbformat_minor": 0,
  "metadata": {
    "colab": {
      "name": "Stocks.ipynb",
      "provenance": [],
      "authorship_tag": "ABX9TyNaeRAQnRYSVeXa84cN9gcB",
      "include_colab_link": true
    },
    "kernelspec": {
      "name": "python3",
      "display_name": "Python 3"
    }
  },
  "cells": [
    {
      "cell_type": "markdown",
      "metadata": {
        "id": "view-in-github",
        "colab_type": "text"
      },
      "source": [
        "<a href=\"https://colab.research.google.com/github/SURYACODER/Python/blob/master/Stocks.ipynb\" target=\"_parent\"><img src=\"https://colab.research.google.com/assets/colab-badge.svg\" alt=\"Open In Colab\"/></a>"
      ]
    },
    {
      "cell_type": "code",
      "metadata": {
        "id": "EraJrL7nsd5I"
      },
      "source": [
        "#https://nsetools.readthedocs.io/en/latest/introduction.html\r\n",
        "from nsetools import Nse\r\n",
        "from pprint import pprint\r\n",
        "nse = Nse()\r\n",
        "data = nse.get_quote('infy') # symbol of the company in brackets\r\n",
        "print('=================================='+ data['companyName']+'\\t'    + data['symbol']+'=================================================================')\r\n",
        "print(\"Previous Day close (\" , end=\"\")\r\n",
        "print(data['recordDate'] ,end=\"\")\r\n",
        "print(\") : \" ,end=\"\")\r\n",
        "print(data['previousClose'] , end=\"\\t\")\r\n",
        "print(\"Trade Day : \" ,end = \"\" )\r\n",
        "print (data['secDate'])\r\n",
        "print('================================== 52 week =================================================================')\r\n",
        "print(\"52 week high : \" , end = \"\")\r\n",
        "print(data['high52'] , end = \"\\t\")\r\n",
        "print(\"52 week low : \" , end = \"\")\r\n",
        "print(data['low52'] )\r\n",
        "print(\"Last close : \" , end=\"\")\r\n",
        "print(data['previousClose'])\r\n",
        "\r\n",
        "print('================================== Trade History =================================================================')\r\n",
        "print(\"Sell \\t\\t  Qty \\t\\t\\t    Buy \\t Qty\"  )\r\n",
        "print(\"---- \\t\\t  --- \\t\\t\\t    --- \\t ---\")\r\n",
        "print(data['sellPrice1'] ,end=\"\")\r\n",
        "print(\" \\t \",end = \"\")\r\n",
        "print(data['sellQuantity1'] , end = \"\")\r\n",
        "print(\" \\t\\t   \" , end = \"\")\r\n",
        "print(data['buyPrice1'] ,end=\"\")\r\n",
        "print(\" \\t \",end = \"\")\r\n",
        "print(data['buyQuantity1'],end=\"\\n\")\r\n",
        "\r\n",
        "print(data['sellPrice2'] ,end=\"\")\r\n",
        "print(\" \\t   \",end = \"\")\r\n",
        "print(data['sellQuantity2'] , end = \"\")\r\n",
        "print(\" \\t\\t     \" , end = \"\")\r\n",
        "print(data['buyPrice2'] ,end=\"\")\r\n",
        "print(\" \\t \",end = \"\")\r\n",
        "print(data['buyQuantity2'],end=\"\\n\")\r\n",
        "\r\n",
        "print(data['sellPrice3'] ,end=\"\")\r\n",
        "print(\" \\t   \",end = \"\")\r\n",
        "print(data['sellQuantity3'] , end = \"\")\r\n",
        "print(\" \\t\\t     \" , end = \"\")\r\n",
        "print(data['buyPrice3'] ,end=\"\")\r\n",
        "print(\" \\t \",end = \"\")\r\n",
        "print(data['buyQuantity3'],end=\"\\n\")\r\n",
        "\r\n",
        "print(data['sellPrice4'] ,end=\"\")\r\n",
        "print(\" \\t   \",end = \"\")\r\n",
        "print(data['sellQuantity4'] , end = \"\")\r\n",
        "print(\" \\t\\t     \" , end = \"\")\r\n",
        "print(data['buyPrice4'] ,end=\"\")\r\n",
        "print(\" \\t \",end = \"\")\r\n",
        "print(data['buyQuantity4'],end=\"\\n\")\r\n",
        "\r\n",
        "print(data['sellPrice5'] ,end=\"\")\r\n",
        "print(\" \\t   \",end = \"\")\r\n",
        "print(data['sellQuantity5'] , end = \"\")\r\n",
        "print(\" \\t\\t     \" , end = \"\")\r\n",
        "print(data['buyPrice5'] ,end=\"\")\r\n",
        "print(\" \\t \",end = \"\")\r\n",
        "print(data['buyQuantity5'],end=\"\\n\")\r\n",
        "\r\n",
        "print(\"Day open    : \" , end = \"\")\r\n",
        "print(data['open'] , end = \"\\n\")\r\n",
        "print(\"Day High    : \" , end =\"\")\r\n",
        "print(data['dayHigh'] , end = \"\\t\\t\")\r\n",
        "print(\"            Day Low : \" , end =\"\")\r\n",
        "print(data['dayLow'] , end = \"\\n\")\r\n",
        "print('ClosePrice  : ' , end =\"\")\r\n",
        "print(data['closePrice'],end = \"\\t\")\r\n",
        "print('              AveragePrice : ' , end =\"\")\r\n",
        "print(data['averagePrice'],end = \"\\n\")\r\n",
        "print('TotalTradedVolume : ' , end =\"\")\r\n",
        "print(data['totalTradedVolume'],end = \"\\n\")"
      ],
      "execution_count": null,
      "outputs": []
    }
  ]
}